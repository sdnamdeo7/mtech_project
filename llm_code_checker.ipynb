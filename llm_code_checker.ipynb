{
 "cells": [
  {
   "cell_type": "code",
   "execution_count": 1,
   "id": "9b11c81e",
   "metadata": {},
   "outputs": [
    {
     "name": "stderr",
     "output_type": "stream",
     "text": [
      "E:\\anaconda\\envs\\bits_project_venv\\Lib\\site-packages\\tqdm\\auto.py:21: TqdmWarning: IProgress not found. Please update jupyter and ipywidgets. See https://ipywidgets.readthedocs.io/en/stable/user_install.html\n",
      "  from .autonotebook import tqdm as notebook_tqdm\n"
     ]
    }
   ],
   "source": [
    "from transformers import AutoModelForCausalLM, AutoTokenizer\n",
    "import torch"
   ]
  },
  {
   "cell_type": "code",
   "execution_count": 9,
   "id": "19521e9d-1eed-418d-b610-bcf27c3f3b04",
   "metadata": {},
   "outputs": [],
   "source": [
    "# Load a small open-source LLM\n",
    "model_name = \"TinyLlama/TinyLlama-1.1B-Chat-v1.0\"\n",
    "# model_name = \"deepseek-ai/deepseek-coder\"\n",
    "# model_name = \"Phind/Phind-CodeLlama-34B\"\n",
    "\n",
    "# model_name = \"codellama/CodeLlama-13b-Instruct-hf\"\n",
    "# model_name = \"mistralai/Mistral-7B-v0.1\""
   ]
  },
  {
   "cell_type": "code",
   "execution_count": 10,
   "id": "7874a79c-e626-44e7-9f57-baa8ae5d706d",
   "metadata": {},
   "outputs": [],
   "source": [
    "\n",
    "tokenizer = AutoTokenizer.from_pretrained(model_name)"
   ]
  },
  {
   "cell_type": "code",
   "execution_count": 11,
   "id": "bd8d68cb-a9bd-4330-86db-4eb269fb5254",
   "metadata": {},
   "outputs": [
    {
     "name": "stderr",
     "output_type": "stream",
     "text": [
      "Some parameters are on the meta device because they were offloaded to the disk and cpu.\n"
     ]
    }
   ],
   "source": [
    "model = AutoModelForCausalLM.from_pretrained(\n",
    "    model_name,\n",
    "    device_map=\"auto\",\n",
    "    offload_folder=\"offload\",  # add this line\n",
    "    torch_dtype=torch.float16 if torch.cuda.is_available() else torch.float32\n",
    ")"
   ]
  },
  {
   "cell_type": "code",
   "execution_count": 12,
   "id": "a0ca9f65-3181-4f1f-993e-9576a8d6ab34",
   "metadata": {},
   "outputs": [],
   "source": [
    "# model = AutoModelForCausalLM.from_pretrained(\n",
    "#     model_name,\n",
    "#     device_map=\"auto\",\n",
    "#     torch_dtype=torch.float16 if torch.cuda.is_available() else torch.float32\n",
    "# )"
   ]
  },
  {
   "cell_type": "code",
   "execution_count": null,
   "id": "3bd323e8-e765-489f-a53d-1b605d71351e",
   "metadata": {},
   "outputs": [],
   "source": []
  },
  {
   "cell_type": "code",
   "execution_count": 13,
   "id": "112b45e2-f7c9-485f-8d35-f8654cfe2e60",
   "metadata": {},
   "outputs": [
    {
     "data": {
      "text/plain": [
       "LlamaForCausalLM(\n",
       "  (model): LlamaModel(\n",
       "    (embed_tokens): Embedding(32000, 2048)\n",
       "    (layers): ModuleList(\n",
       "      (0-21): 22 x LlamaDecoderLayer(\n",
       "        (self_attn): LlamaAttention(\n",
       "          (q_proj): Linear(in_features=2048, out_features=2048, bias=False)\n",
       "          (k_proj): Linear(in_features=2048, out_features=256, bias=False)\n",
       "          (v_proj): Linear(in_features=2048, out_features=256, bias=False)\n",
       "          (o_proj): Linear(in_features=2048, out_features=2048, bias=False)\n",
       "        )\n",
       "        (mlp): LlamaMLP(\n",
       "          (gate_proj): Linear(in_features=2048, out_features=5632, bias=False)\n",
       "          (up_proj): Linear(in_features=2048, out_features=5632, bias=False)\n",
       "          (down_proj): Linear(in_features=5632, out_features=2048, bias=False)\n",
       "          (act_fn): SiLU()\n",
       "        )\n",
       "        (input_layernorm): LlamaRMSNorm((2048,), eps=1e-05)\n",
       "        (post_attention_layernorm): LlamaRMSNorm((2048,), eps=1e-05)\n",
       "      )\n",
       "    )\n",
       "    (norm): LlamaRMSNorm((2048,), eps=1e-05)\n",
       "    (rotary_emb): LlamaRotaryEmbedding()\n",
       "  )\n",
       "  (lm_head): Linear(in_features=2048, out_features=32000, bias=False)\n",
       ")"
      ]
     },
     "execution_count": 13,
     "metadata": {},
     "output_type": "execute_result"
    }
   ],
   "source": [
    "model"
   ]
  },
  {
   "cell_type": "code",
   "execution_count": 14,
   "id": "fd0eb05c-a286-4688-9d40-2e31cb44e241",
   "metadata": {},
   "outputs": [],
   "source": [
    "# model = AutoModelForCausalLM.from_pretrained(\n",
    "#     model_name,\n",
    "#     torch_dtype=torch.float16 if torch.cuda.is_available() else torch.float32\n",
    "# )\n"
   ]
  },
  {
   "cell_type": "code",
   "execution_count": 15,
   "id": "bee7fa43-c807-4712-bfcd-60d67c387a74",
   "metadata": {},
   "outputs": [],
   "source": [
    "def load_code(filename):\n",
    "    with open(filename, 'r') as f:\n",
    "        return f.read()"
   ]
  },
  {
   "cell_type": "code",
   "execution_count": 16,
   "id": "669c3be5-d42f-4afe-bdca-83945de7052f",
   "metadata": {},
   "outputs": [],
   "source": [
    "code = load_code(\"data_engineering.py\")"
   ]
  },
  {
   "cell_type": "code",
   "execution_count": 17,
   "id": "be6eac5e-24ea-4646-8354-196ca5a090a6",
   "metadata": {},
   "outputs": [],
   "source": [
    "prompt = f\"\"\"\n",
    "You are a Python code checker.\n",
    "\n",
    "Your task is to:\n",
    "1. Check the given Python code for any syntax errors.\n",
    "2. Identify bad coding practices or anti-patterns.\n",
    "3. Detect any logical flaws or unintended behavior.\n",
    "\n",
    "If any issues are found, provide a corrected and improved version of the code.\n",
    "\n",
    "Here is the code to check:\n",
    "```python```\n",
    "{code} \"\"\"\n"
   ]
  },
  {
   "cell_type": "code",
   "execution_count": 18,
   "id": "12f234fc-a139-437c-acac-cb6ba30ce49b",
   "metadata": {},
   "outputs": [
    {
     "data": {
      "text/plain": [
       "'\\nYou are a Python code checker.\\n\\nYour task is to:\\n1. Check the given Python code for any syntax errors.\\n2. Identify bad coding practices or anti-patterns.\\n3. Detect any logical flaws or unintended behavior.\\n\\nIf any issues are found, provide a corrected and improved version of the code.\\n\\nHere is the code to check:\\n```python```\\n# data_engineering.py\\n\\nimport pandas as pd\\nimport boto3\\nimport os\\n\\ndef load_csv_from_s3(bucket, file_key):\\n    s3 = boto3.client(\\'s3\\')\\n    obj = s3.get_object(Bucket=bucket, Key=file_key)\\n    df = pd.read_csv(obj[\\'Body\\'])\\n    return df\\n\\ndef transform_data(df):\\n    df[\\'total_amount\\'] = df[\\'quantity\\'] * df[\\'price\\']\\n    df[\\'order_date\\'] = pd.to_datetime(df[\\'order_date\\'], errors=\\'coerce\\')\\n    df[\\'year\\'] = df[\\'order_date\\'].dt.year\\n    df[\\'month\\'] = df.order_date.dt.month\\n    df[\\'day\\'] = df.order_date.dt.day\\n    return df\\n\\ndef save_to_local(df, path):\\n    df.to_csv(path, index=False)\\n    print(f\"Data saved to {path}\")\\n\\nif __name__ == \\'__main__\\':\\n    BUCKET_NAME = \\'my-bucket\\'\\n    FILE_KEY = \\'data/orders.csv\\'\\n    OUTPUT_PATH = \"outputs/orders_clean.csv\"\\n\\n    df = load_csv_from_s3(BUCKET_NAME, FILE_KEY)\\n\\n    df_cleaned = transform_data(df)\\n\\n    # Save data\\n    save_to_local(df_clean, OUTPUT_PATH)\\n '"
      ]
     },
     "execution_count": 18,
     "metadata": {},
     "output_type": "execute_result"
    }
   ],
   "source": [
    "prompt"
   ]
  },
  {
   "cell_type": "code",
   "execution_count": 19,
   "id": "a801a8f8-e691-435a-9e26-97ca0b52122b",
   "metadata": {},
   "outputs": [],
   "source": [
    "inputs = tokenizer(prompt, return_tensors=\"pt\").to(model.device)"
   ]
  },
  {
   "cell_type": "code",
   "execution_count": 20,
   "id": "1f12fdd4-880b-4faa-9bac-221d37996dc4",
   "metadata": {},
   "outputs": [
    {
     "name": "stderr",
     "output_type": "stream",
     "text": [
      "The following generation flags are not valid and may be ignored: ['temperature']. Set `TRANSFORMERS_VERBOSITY=info` for more details.\n"
     ]
    }
   ],
   "source": [
    "# Generate response\n",
    "outputs = model.generate(**inputs, max_new_tokens=100, temperature=0.7)"
   ]
  },
  {
   "cell_type": "code",
   "execution_count": 21,
   "id": "04a05645-bbac-4bbd-ad8d-6efeaac24c5b",
   "metadata": {},
   "outputs": [],
   "source": [
    "response = tokenizer.decode(outputs[0], skip_special_tokens=True)\n"
   ]
  },
  {
   "cell_type": "code",
   "execution_count": 22,
   "id": "f0487cd5-6c40-4edc-8c7e-26a67e9a96db",
   "metadata": {},
   "outputs": [
    {
     "name": "stdout",
     "output_type": "stream",
     "text": [
      "\n",
      "You are a Python code checker.\n",
      "\n",
      "Your task is to:\n",
      "1. Check the given Python code for any syntax errors.\n",
      "2. Identify bad coding practices or anti-patterns.\n",
      "3. Detect any logical flaws or unintended behavior.\n",
      "\n",
      "If any issues are found, provide a corrected and improved version of the code.\n",
      "\n",
      "Here is the code to check:\n",
      "```python```\n",
      "# data_engineering.py\n",
      "\n",
      "import pandas as pd\n",
      "import boto3\n",
      "import os\n",
      "\n",
      "def load_csv_from_s3(bucket, file_key):\n",
      "    s3 = boto3.client('s3')\n",
      "    obj = s3.get_object(Bucket=bucket, Key=file_key)\n",
      "    df = pd.read_csv(obj['Body'])\n",
      "    return df\n",
      "\n",
      "def transform_data(df):\n",
      "    df['total_amount'] = df['quantity'] * df['price']\n",
      "    df['order_date'] = pd.to_datetime(df['order_date'], errors='coerce')\n",
      "    df['year'] = df['order_date'].dt.year\n",
      "    df['month'] = df.order_date.dt.month\n",
      "    df['day'] = df.order_date.dt.day\n",
      "    return df\n",
      "\n",
      "def save_to_local(df, path):\n",
      "    df.to_csv(path, index=False)\n",
      "    print(f\"Data saved to {path}\")\n",
      "\n",
      "if __name__ == '__main__':\n",
      "    BUCKET_NAME = 'my-bucket'\n",
      "    FILE_KEY = 'data/orders.csv'\n",
      "    OUTPUT_PATH = \"outputs/orders_clean.csv\"\n",
      "\n",
      "    df = load_csv_from_s3(BUCKET_NAME, FILE_KEY)\n",
      "\n",
      "    df_cleaned = transform_data(df)\n",
      "\n",
      "    # Save data\n",
      "    save_to_local(df_clean, OUTPUT_PATH)\n",
      " \n",
      "    print(f\"Data cleaned and saved to {OUTPUT_PATH}\")\n",
      "```\n",
      "\n",
      "Here's an example of how to use the code:\n",
      "\n",
      "```python\n",
      "import os\n",
      "import sys\n",
      "\n",
      "# Load the data from S3\n",
      "bucket_name = os.environ['BUCKET_NAME']\n",
      "file_key = os.environ['FILE_KEY']\n",
      "output_path = os.environ['OUTPUT_PATH']\n",
      "\n",
      "# Load the\n"
     ]
    }
   ],
   "source": [
    "print(response)"
   ]
  },
  {
   "cell_type": "code",
   "execution_count": null,
   "id": "fb05ef34-87b3-4b8d-844c-4fa42e4021eb",
   "metadata": {},
   "outputs": [],
   "source": []
  },
  {
   "cell_type": "code",
   "execution_count": null,
   "id": "9a3a5f81-3270-4a25-a358-1e43d459e9aa",
   "metadata": {},
   "outputs": [],
   "source": []
  }
 ],
 "metadata": {
  "kernelspec": {
   "display_name": "Python 3 (ipykernel)",
   "language": "python",
   "name": "python3"
  },
  "language_info": {
   "codemirror_mode": {
    "name": "ipython",
    "version": 3
   },
   "file_extension": ".py",
   "mimetype": "text/x-python",
   "name": "python",
   "nbconvert_exporter": "python",
   "pygments_lexer": "ipython3",
   "version": "3.13.5"
  }
 },
 "nbformat": 4,
 "nbformat_minor": 5
}
