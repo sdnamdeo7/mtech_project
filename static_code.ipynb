{
 "cells": [
  {
   "cell_type": "code",
   "execution_count": 1,
   "id": "7f067bef-ef41-4b61-855e-b1d60d49e283",
   "metadata": {},
   "outputs": [],
   "source": [
    "import ast\n",
    "import subprocess\n",
    "import tempfile\n",
    "import os\n"
   ]
  },
  {
   "cell_type": "code",
   "execution_count": 2,
   "id": "d1828cac-a308-4e86-93c1-fa67e17bee30",
   "metadata": {},
   "outputs": [],
   "source": [
    "def analyze_syntax(code):\n",
    "    \"\"\"Check for syntax errors using Python AST parser.\"\"\"\n",
    "    try:\n",
    "        ast.parse(code)\n",
    "        return {\"status\": \"ok\", \"error\": None}\n",
    "    except SyntaxError as e:\n",
    "        return {\n",
    "            \"status\": \"error\",\n",
    "            \"error\": {\n",
    "                \"type\": \"SyntaxError\",\n",
    "                \"message\": e.msg,\n",
    "                \"line\": e.lineno,\n",
    "                \"offset\": e.offset,\n",
    "                \"text\": e.text.strip() if e.text else \"\"\n",
    "            }\n",
    "        }"
   ]
  },
  {
   "cell_type": "code",
   "execution_count": 3,
   "id": "ba1d4354-81bd-48f4-8b61-6448c106f9fd",
   "metadata": {},
   "outputs": [],
   "source": [
    "def run_flake8(code):\n",
    "    \"\"\"Run flake8 for linting and style issues.\"\"\"\n",
    "    with tempfile.NamedTemporaryFile(mode='w+', suffix='.py', delete=False) as temp_file:\n",
    "        temp_file.write(code)\n",
    "        temp_file.flush()\n",
    "        temp_file_path = temp_file.name\n",
    "\n",
    "    try:\n",
    "        result = subprocess.run(\n",
    "            [\"flake8\", temp_file_path],\n",
    "            stdout=subprocess.PIPE,\n",
    "            stderr=subprocess.PIPE,\n",
    "            text=True\n",
    "        )\n",
    "        issues = result.stdout.strip().split(\"\\n\") if result.stdout else []\n",
    "        return issues\n",
    "    finally:\n",
    "        os.remove(temp_file_path)  # Clean up"
   ]
  },
  {
   "cell_type": "code",
   "execution_count": 4,
   "id": "ef2c5b2b-0bf2-42ef-9a3c-8e70cdfd6368",
   "metadata": {},
   "outputs": [],
   "source": [
    "def static_code_analysis(code):\n",
    "    print(\"🔍 Running Static Code Analysis...\\n\")\n",
    "\n",
    "    syntax_result = analyze_syntax(code)\n",
    "    if syntax_result[\"status\"] == \"ok\":\n",
    "        print(\"Syntax Check: Passed\")\n",
    "    else:\n",
    "        err = syntax_result[\"error\"]\n",
    "        print(\"Syntax Error:\")\n",
    "        print(f\"  Line {err['line']}, Offset {err['offset']}: {err['message']}\")\n",
    "        print(f\"  Code: {err['text']}\\n\")\n",
    "        return  # Stop further analysis if syntax is invalid\n",
    "\n",
    "    # If syntax is valid, continue with linting\n",
    "    flake8_issues = run_flake8(code)\n",
    "    if flake8_issues:\n",
    "        print(\"Linting Issues Found:\")\n",
    "        for issue in flake8_issues:\n",
    "            print(\"  -\", issue)\n",
    "    else:\n",
    "        print(\"No linting/style issues detected.\")\n"
   ]
  },
  {
   "cell_type": "code",
   "execution_count": 7,
   "id": "1b38beea-82cf-47b0-9912-315ad75cc414",
   "metadata": {},
   "outputs": [],
   "source": [
    "sample_code = \"\"\"\n",
    "import os\n",
    "\n",
    "def add(a, b):\n",
    "    result = a + \n",
    "    return result\n",
    "\n",
    "def unused_func():\n",
    "    pass\n",
    "\n",
    "add(2, 3)\n",
    "\"\"\""
   ]
  },
  {
   "cell_type": "code",
   "execution_count": 11,
   "id": "2b3ff3df-64fd-4092-85d4-51aa74a9b455",
   "metadata": {},
   "outputs": [],
   "source": [
    "sample_code = \"\"\"\n",
    "# data_engineering.py\n",
    "\n",
    "import pandas as pd\n",
    "import boto3\n",
    "import os\n",
    "\n",
    "def load_csv_from_s3(bucket, file_key):\n",
    "    s3 = boto3.client('s3')\n",
    "    obj = s3.get_object(Bucket=bucket, Key=file_key)\n",
    "    df = pd.read_csv(obj['Body'])\n",
    "    return df\n",
    "\n",
    "def transform_data(df):\n",
    "    df['total_amount'] = df['quantity'] * df['price']\n",
    "    df['order_date'] = pd.to_datetime(df['order_date'], errors='coerce')\n",
    "    df['year'] = df['order_date'].dt.year\n",
    "    df['month'] = df.order_date.dt.month\n",
    "    df['day'] = df.order_date.dt.day\n",
    "    return df\n",
    "\n",
    "def save_to_local(df, path):\n",
    "    df.to_csv(path, index=False)\n",
    "    print(f\"Data saved to {path}\")\n",
    "\n",
    "if __name__ == '__main__':\n",
    "    BUCKET_NAME = 'my-bucket'\n",
    "    FILE_KEY = 'data/orders.csv'\n",
    "    OUTPUT_PATH = \"outputs/orders_clean.csv\"\n",
    "\n",
    "    df = load_csv_from_s3(BUCKET_NAME, FILE_KEY)\n",
    "\n",
    "    df_cleaned = transform_data(df)\n",
    "\n",
    "    # Save data\n",
    "    save_to_local(df_clean, OUTPUT_PATH)\n",
    "\"\"\""
   ]
  },
  {
   "cell_type": "code",
   "execution_count": null,
   "id": "6144ec59-27d6-4515-8a90-575e455b3dd8",
   "metadata": {},
   "outputs": [],
   "source": []
  },
  {
   "cell_type": "code",
   "execution_count": 12,
   "id": "d60635f5-49b4-4b00-aef1-7af177ee5530",
   "metadata": {},
   "outputs": [
    {
     "name": "stdout",
     "output_type": "stream",
     "text": [
      "🔍 Running Static Code Analysis...\n",
      "\n",
      "Syntax Check: Passed\n",
      "Linting Issues Found:\n",
      "  - C:\\Users\\sdnam\\AppData\\Local\\Temp\\tmpi_zllj4q.py:6:1: F401 'os' imported but unused\n",
      "  - C:\\Users\\sdnam\\AppData\\Local\\Temp\\tmpi_zllj4q.py:8:1: E302 expected 2 blank lines, found 1\n",
      "  - C:\\Users\\sdnam\\AppData\\Local\\Temp\\tmpi_zllj4q.py:14:1: E302 expected 2 blank lines, found 1\n",
      "  - C:\\Users\\sdnam\\AppData\\Local\\Temp\\tmpi_zllj4q.py:22:1: E302 expected 2 blank lines, found 1\n",
      "  - C:\\Users\\sdnam\\AppData\\Local\\Temp\\tmpi_zllj4q.py:26:1: E305 expected 2 blank lines after class or function definition, found 1\n",
      "  - C:\\Users\\sdnam\\AppData\\Local\\Temp\\tmpi_zllj4q.py:36:19: F821 undefined name 'df_clean'\n"
     ]
    }
   ],
   "source": [
    "static_code_analysis(sample_code)"
   ]
  },
  {
   "cell_type": "code",
   "execution_count": null,
   "id": "8c499d54-926a-446f-a67e-4b13edb31053",
   "metadata": {},
   "outputs": [],
   "source": []
  }
 ],
 "metadata": {
  "kernelspec": {
   "display_name": "Python 3 (ipykernel)",
   "language": "python",
   "name": "python3"
  },
  "language_info": {
   "codemirror_mode": {
    "name": "ipython",
    "version": 3
   },
   "file_extension": ".py",
   "mimetype": "text/x-python",
   "name": "python",
   "nbconvert_exporter": "python",
   "pygments_lexer": "ipython3",
   "version": "3.13.5"
  }
 },
 "nbformat": 4,
 "nbformat_minor": 5
}
